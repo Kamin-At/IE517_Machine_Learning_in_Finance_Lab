{
 "cells": [
  {
   "cell_type": "code",
   "execution_count": 1,
   "id": "57652f0c",
   "metadata": {},
   "outputs": [],
   "source": [
    "import numpy as np\n",
    "import pandas as pd"
   ]
  },
  {
   "cell_type": "code",
   "execution_count": 2,
   "id": "e513f073",
   "metadata": {},
   "outputs": [
    {
     "name": "stdout",
     "output_type": "stream",
     "text": [
      "input your number of trials here:100000\n"
     ]
    }
   ],
   "source": [
    "n = int(input(\"input your number of trials here:\"))"
   ]
  },
  {
   "cell_type": "code",
   "execution_count": 3,
   "id": "c0bfffd6",
   "metadata": {},
   "outputs": [],
   "source": [
    "#Because we are only allowed to use numpy and pandas,\n",
    "#we estimate the CDF function of a standard normal by using P(Z<=z) = np.sum(samples<=z)/len(samples)\n",
    "#the size should be as large as possible to get accurate answers, but it still need to be feasible for the given RAM.\n",
    "samples = np.random.normal(loc=0.0, scale=1.0, size=(1000000))"
   ]
  },
  {
   "cell_type": "code",
   "execution_count": 4,
   "id": "5a230b07",
   "metadata": {},
   "outputs": [],
   "source": [
    "def BSM_pricing(S, K, q, r, v, t):\n",
    "    #implementation of the BSM formula (for call option)\n",
    "    global samples\n",
    "    z1 = (np.log(S/K) + (r - q + (v**2)/2) * t) / (v * np.sqrt(t))\n",
    "    z2 = z1 - v * np.sqrt(t)\n",
    "    N1 = np.sum(samples<=z1)/len(samples)\n",
    "    N2 = np.sum(samples<=z2)/len(samples)\n",
    "    return S * np.exp(-q*t) * N1 - K * np.exp(- r * t) * N2"
   ]
  },
  {
   "cell_type": "code",
   "execution_count": 5,
   "id": "67c5d7fb",
   "metadata": {},
   "outputs": [
    {
     "name": "stdout",
     "output_type": "stream",
     "text": [
      "CPU times: total: 0 ns\n",
      "Wall time: 11.5 ms\n"
     ]
    }
   ],
   "source": [
    "%%time\n",
    "#Generate random inputs to the BSM model\n",
    "df  = pd.DataFrame({'S': 100 * np.ones(n), \n",
    "                    'K': np.random.uniform(low=90,high=110, size=n), \n",
    "                    'q': np.random.uniform(low=0.01,high=0.03, size=n), \n",
    "                    'r': np.random.uniform(low=0.01,high=0.06, size=n), \n",
    "                    'v': np.random.uniform(low=0.2,high=0.5, size=n), \n",
    "                    't': np.random.uniform(low=0.1,high=1.0, size=n)})"
   ]
  },
  {
   "cell_type": "code",
   "execution_count": 6,
   "id": "ea2b52ee",
   "metadata": {},
   "outputs": [
    {
     "name": "stdout",
     "output_type": "stream",
     "text": [
      "CPU times: total: 1min 10s\n",
      "Wall time: 4min 13s\n"
     ]
    },
    {
     "data": {
      "text/html": [
       "<div>\n",
       "<style scoped>\n",
       "    .dataframe tbody tr th:only-of-type {\n",
       "        vertical-align: middle;\n",
       "    }\n",
       "\n",
       "    .dataframe tbody tr th {\n",
       "        vertical-align: top;\n",
       "    }\n",
       "\n",
       "    .dataframe thead th {\n",
       "        text-align: right;\n",
       "    }\n",
       "</style>\n",
       "<table border=\"1\" class=\"dataframe\">\n",
       "  <thead>\n",
       "    <tr style=\"text-align: right;\">\n",
       "      <th></th>\n",
       "      <th>S</th>\n",
       "      <th>K</th>\n",
       "      <th>q</th>\n",
       "      <th>r</th>\n",
       "      <th>v</th>\n",
       "      <th>t</th>\n",
       "      <th>Estimated call price</th>\n",
       "    </tr>\n",
       "  </thead>\n",
       "  <tbody>\n",
       "    <tr>\n",
       "      <th>0</th>\n",
       "      <td>100.0</td>\n",
       "      <td>98.774038</td>\n",
       "      <td>0.026926</td>\n",
       "      <td>0.052114</td>\n",
       "      <td>0.312914</td>\n",
       "      <td>0.553683</td>\n",
       "      <td>10.292525</td>\n",
       "    </tr>\n",
       "    <tr>\n",
       "      <th>1</th>\n",
       "      <td>100.0</td>\n",
       "      <td>99.414950</td>\n",
       "      <td>0.023359</td>\n",
       "      <td>0.050734</td>\n",
       "      <td>0.377649</td>\n",
       "      <td>0.779536</td>\n",
       "      <td>14.161685</td>\n",
       "    </tr>\n",
       "    <tr>\n",
       "      <th>2</th>\n",
       "      <td>100.0</td>\n",
       "      <td>105.629611</td>\n",
       "      <td>0.024777</td>\n",
       "      <td>0.011082</td>\n",
       "      <td>0.313756</td>\n",
       "      <td>0.979930</td>\n",
       "      <td>9.312665</td>\n",
       "    </tr>\n",
       "    <tr>\n",
       "      <th>3</th>\n",
       "      <td>100.0</td>\n",
       "      <td>100.699598</td>\n",
       "      <td>0.028286</td>\n",
       "      <td>0.029438</td>\n",
       "      <td>0.207898</td>\n",
       "      <td>0.111267</td>\n",
       "      <td>2.440748</td>\n",
       "    </tr>\n",
       "    <tr>\n",
       "      <th>4</th>\n",
       "      <td>100.0</td>\n",
       "      <td>109.918510</td>\n",
       "      <td>0.024435</td>\n",
       "      <td>0.058276</td>\n",
       "      <td>0.211372</td>\n",
       "      <td>0.279025</td>\n",
       "      <td>1.467883</td>\n",
       "    </tr>\n",
       "    <tr>\n",
       "      <th>...</th>\n",
       "      <td>...</td>\n",
       "      <td>...</td>\n",
       "      <td>...</td>\n",
       "      <td>...</td>\n",
       "      <td>...</td>\n",
       "      <td>...</td>\n",
       "      <td>...</td>\n",
       "    </tr>\n",
       "    <tr>\n",
       "      <th>99995</th>\n",
       "      <td>100.0</td>\n",
       "      <td>105.521484</td>\n",
       "      <td>0.017302</td>\n",
       "      <td>0.030573</td>\n",
       "      <td>0.479466</td>\n",
       "      <td>0.807628</td>\n",
       "      <td>15.057305</td>\n",
       "    </tr>\n",
       "    <tr>\n",
       "      <th>99996</th>\n",
       "      <td>100.0</td>\n",
       "      <td>93.644368</td>\n",
       "      <td>0.024814</td>\n",
       "      <td>0.026355</td>\n",
       "      <td>0.229230</td>\n",
       "      <td>0.304658</td>\n",
       "      <td>8.667937</td>\n",
       "    </tr>\n",
       "    <tr>\n",
       "      <th>99997</th>\n",
       "      <td>100.0</td>\n",
       "      <td>95.296676</td>\n",
       "      <td>0.018287</td>\n",
       "      <td>0.039973</td>\n",
       "      <td>0.375766</td>\n",
       "      <td>0.451599</td>\n",
       "      <td>12.747852</td>\n",
       "    </tr>\n",
       "    <tr>\n",
       "      <th>99998</th>\n",
       "      <td>100.0</td>\n",
       "      <td>93.853636</td>\n",
       "      <td>0.015584</td>\n",
       "      <td>0.054012</td>\n",
       "      <td>0.281410</td>\n",
       "      <td>0.609959</td>\n",
       "      <td>13.092137</td>\n",
       "    </tr>\n",
       "    <tr>\n",
       "      <th>99999</th>\n",
       "      <td>100.0</td>\n",
       "      <td>98.132736</td>\n",
       "      <td>0.024231</td>\n",
       "      <td>0.014641</td>\n",
       "      <td>0.218825</td>\n",
       "      <td>0.272841</td>\n",
       "      <td>5.304948</td>\n",
       "    </tr>\n",
       "  </tbody>\n",
       "</table>\n",
       "<p>100000 rows × 7 columns</p>\n",
       "</div>"
      ],
      "text/plain": [
       "           S           K         q         r         v         t  \\\n",
       "0      100.0   98.774038  0.026926  0.052114  0.312914  0.553683   \n",
       "1      100.0   99.414950  0.023359  0.050734  0.377649  0.779536   \n",
       "2      100.0  105.629611  0.024777  0.011082  0.313756  0.979930   \n",
       "3      100.0  100.699598  0.028286  0.029438  0.207898  0.111267   \n",
       "4      100.0  109.918510  0.024435  0.058276  0.211372  0.279025   \n",
       "...      ...         ...       ...       ...       ...       ...   \n",
       "99995  100.0  105.521484  0.017302  0.030573  0.479466  0.807628   \n",
       "99996  100.0   93.644368  0.024814  0.026355  0.229230  0.304658   \n",
       "99997  100.0   95.296676  0.018287  0.039973  0.375766  0.451599   \n",
       "99998  100.0   93.853636  0.015584  0.054012  0.281410  0.609959   \n",
       "99999  100.0   98.132736  0.024231  0.014641  0.218825  0.272841   \n",
       "\n",
       "       Estimated call price  \n",
       "0                 10.292525  \n",
       "1                 14.161685  \n",
       "2                  9.312665  \n",
       "3                  2.440748  \n",
       "4                  1.467883  \n",
       "...                     ...  \n",
       "99995             15.057305  \n",
       "99996              8.667937  \n",
       "99997             12.747852  \n",
       "99998             13.092137  \n",
       "99999              5.304948  \n",
       "\n",
       "[100000 rows x 7 columns]"
      ]
     },
     "execution_count": 6,
     "metadata": {},
     "output_type": "execute_result"
    }
   ],
   "source": [
    "%%time\n",
    "df['Estimated call price'] = df.apply(lambda x: (BSM_pricing(x['S'],\n",
    "                                                             x['K'],\n",
    "                                                             x['q'],\n",
    "                                                             x['r'],\n",
    "                                                             x['v'],\n",
    "                                                             x['t'])), axis=1)\n",
    "df"
   ]
  },
  {
   "cell_type": "code",
   "execution_count": 7,
   "id": "fb1f56c1",
   "metadata": {},
   "outputs": [],
   "source": [
    "df.to_csv('BSM_call_sample.csv', index=False)"
   ]
  },
  {
   "cell_type": "code",
   "execution_count": null,
   "id": "44c367bc",
   "metadata": {},
   "outputs": [],
   "source": []
  }
 ],
 "metadata": {
  "kernelspec": {
   "display_name": "min",
   "language": "python",
   "name": "min"
  },
  "language_info": {
   "codemirror_mode": {
    "name": "ipython",
    "version": 3
   },
   "file_extension": ".py",
   "mimetype": "text/x-python",
   "name": "python",
   "nbconvert_exporter": "python",
   "pygments_lexer": "ipython3",
   "version": "3.9.17"
  }
 },
 "nbformat": 4,
 "nbformat_minor": 5
}
